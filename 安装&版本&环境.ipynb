{
 "metadata": {
  "language_info": {
   "codemirror_mode": {
    "name": "ipython",
    "version": 3
   },
   "file_extension": ".py",
   "mimetype": "text/x-python",
   "name": "python",
   "nbconvert_exporter": "python",
   "pygments_lexer": "ipython3",
   "version": "3.7.6-final"
  },
  "orig_nbformat": 2,
  "kernelspec": {
   "name": "python3",
   "display_name": "Python 3.7.6 64-bit (conda)",
   "metadata": {
    "interpreter": {
     "hash": "b3ba2566441a7c06988d0923437866b63cedc61552a5af99d1f4fb67d367b25f"
    }
   }
  }
 },
 "nbformat": 4,
 "nbformat_minor": 2,
 "cells": [
  {
   "source": [
    "如果安装了多个版本的Python，则可以在命令行中输入py-0来查看所有安装的Python版本。默认的解释器会被标上星号（*）。"
   ],
   "cell_type": "markdown",
   "metadata": {}
  },
  {
   "cell_type": "code",
   "execution_count": null,
   "metadata": {},
   "outputs": [],
   "source": [
    "!py-0"
   ]
  },
  {
   "cell_type": "code",
   "execution_count": null,
   "metadata": {},
   "outputs": [],
   "source": [
    "使用conda安装："
   ]
  },
  {
   "cell_type": "code",
   "execution_count": null,
   "metadata": {},
   "outputs": [],
   "source": [
    "搜索命令：anaconda search -t conda PyQt5"
   ]
  },
  {
   "cell_type": "code",
   "execution_count": 1,
   "metadata": {},
   "outputs": [
    {
     "output_type": "stream",
     "name": "stderr",
     "text": [
      "Using Anaconda API: https://api.anaconda.org\nPackages:\n     Name                      |  Version | Package Types   | Platforms       | Builds    \n     ------------------------- |   ------ | --------------- | --------------- | ----------\n     RoboStack/pyqt5-sip       |  4.19.18 | conda           | linux-aarch64   | py38hbfd4b83_7\n                                          : Python binding of the cross-platform GUI toolkit Qt.\n     asmeurer/pyqt5            |    5.3.2 | conda           | osx-64          | py34_0, py33_0, py26_0, py27_0\n     astrofrog/pyqt5           |    5.5.0 | conda           | linux-64        | py27_0, py35_0, py34_0\n     bpentz/pyqt5              |      5.6 | conda           | win-64          | py35_0    \n     conda-forge/pyqt5-sip     |  4.19.18 | conda           | linux-64, win-64, osx-64 | py38h709712a_7, py38h885f38d_6, py38h885f38d_5, py38h5745d40_5, py38h5745d40_6, py38h5745d40_7, py36hc4f0c31_7, py36hc4f0c31_6, py36hc4f0c31_5, py38h885f38d_7, py36he2d232f_6, py39h415ef7b_6, py39h415ef7b_7, py39h415ef7b_5, py39hd8f94c5_7, py39hd8f94c5_6, py39hd8f94c5_5, py37hf2a7229_5, py36h3ffa6ac_7, py37hf2a7229_7, py37hf2a7229_6, py36h3ffa6ac_6, py36he2d232f_7, py37hcd2ae1e_5, py36he2d232f_5, py38h709712a_6, py36h3ffa6ac_5, py37hcd2ae1e_7, py38h709712a_5, py39he80948d_5, py39he80948d_6, py39he80948d_7, py37hcd2ae1e_6, py37h5ab9d7d_6, py37h5ab9d7d_7, py37h5ab9d7d_5\n                                          : Python binding of the cross-platform GUI toolkit Qt.\n     dmazzella/pyqt5           |    5.3.1 | conda           | osx-64          | py34_0    \n     dsdale24/pyqt5            |    5.3.2 | conda           | linux-64, osx-64, win-64 | py27_0, py34_0\n     dtasev/pyqt5              |   5.13.2 | conda           | linux-64        | 0         \n     ebenolson/pyqt5           |    5.5.0 | conda           | linux-64        | 0, py34_0 \n     fastchan/pyqt5-sip        |  4.19.18 | conda           | linux-64, win-64, osx-64 | py38h885f38d_6, py38h885f38d_5, py38h5745d40_5, py38h5745d40_6, py36hc4f0c31_6, py36hc4f0c31_5, py36he2d232f_6, py39h415ef7b_6, py39h415ef7b_5, py39hd8f94c5_6, py39hd8f94c5_5, py37hf2a7229_5, py37hf2a7229_6, py36h3ffa6ac_6, py38h709712a_6, py36he2d232f_5, py37hcd2ae1e_5, py36h3ffa6ac_5, py38h709712a_5, py39he80948d_5, py39he80948d_6, py37hcd2ae1e_6, py37h5ab9d7d_6, py37h5ab9d7d_5\n                                          : Python binding of the cross-platform GUI toolkit Qt.\n     hadim/pyqt5               |    5.4.1 | conda           | linux-64        | py34_0    \n     inso/pyqt5                |      5.6 | conda           | linux-64, win-32, win-64 | py35_0, py34_0\n     ipa/pyqt5                 |    5.5.0 | conda           | linux-armv6l, win-64 | py27_0    \n     jdreaver/pyqt5            |    5.4.1 | conda           | linux-64        | py34_0    \n     m-labs/pyqt5              |          | conda           | linux-64, win-32, win-64 | py35_0    \n     mmcauliffe/pyqt5          |    5.5.1 | conda           | linux-64, win-64, osx-64 | py27_0, py35_0, py34_0\n     nicoddemus/pyqt5          |    5.4.1 | conda           | linux-64        | py34_0, py27_0\n     nmearl/pyqt5              |    5.5.0 | conda           | linux-64, osx-64 | py35_0, py27_0\n     tballance/pyqt5           |    5.4.1 | conda           | linux-armv7l    | py35_0    \nFound 19 packages\n\nRun 'anaconda show <USER/PACKAGE>' to get installation details\n"
     ]
    }
   ],
   "source": [
    "!anaconda search -t conda PyQt5"
   ]
  },
  {
   "source": [
    "使用show指令来查看该包的详细情况"
   ],
   "cell_type": "markdown",
   "metadata": {}
  },
  {
   "cell_type": "code",
   "execution_count": 4,
   "metadata": {},
   "outputs": [
    {
     "output_type": "stream",
     "name": "stderr",
     "text": [
      "Using Anaconda API: https://api.anaconda.org\nName:    pyqt5\nSummary: \nAccess:  public\nPackage Types:  conda\nVersions:\n   + 5.6\n\nTo install this package with conda run:\n     conda install --channel https://conda.anaconda.org/bpentz pyqt5\n"
     ]
    }
   ],
   "source": [
    "!anaconda show bpentz/pyqt5"
   ]
  },
  {
   "cell_type": "code",
   "execution_count": null,
   "metadata": {},
   "outputs": [],
   "source": [
    "!conda install --channel https://conda.anaconda.org/bpentz pyqt5"
   ]
  }
 ]
}